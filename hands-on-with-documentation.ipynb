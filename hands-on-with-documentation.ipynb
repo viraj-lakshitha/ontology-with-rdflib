{
 "cells": [
  {
   "cell_type": "markdown",
   "id": "767918c9",
   "metadata": {},
   "source": [
    "## Install RDF Library"
   ]
  },
  {
   "cell_type": "code",
   "execution_count": 1,
   "id": "fdbefd62",
   "metadata": {
    "collapsed": true
   },
   "outputs": [
    {
     "name": "stdout",
     "output_type": "stream",
     "text": [
      "Requirement already satisfied: rdflib in /Users/viraj-lakshitha/opt/anaconda3/lib/python3.9/site-packages (6.2.0)\n",
      "Requirement already satisfied: pyparsing in /Users/viraj-lakshitha/opt/anaconda3/lib/python3.9/site-packages (from rdflib) (3.0.4)\n",
      "Requirement already satisfied: isodate in /Users/viraj-lakshitha/opt/anaconda3/lib/python3.9/site-packages (from rdflib) (0.6.1)\n",
      "Requirement already satisfied: setuptools in /Users/viraj-lakshitha/opt/anaconda3/lib/python3.9/site-packages (from rdflib) (61.2.0)\n",
      "Requirement already satisfied: six in /Users/viraj-lakshitha/opt/anaconda3/lib/python3.9/site-packages (from isodate->rdflib) (1.16.0)\n"
     ]
    }
   ],
   "source": [
    "!pip install rdflib"
   ]
  },
  {
   "cell_type": "code",
   "execution_count": 2,
   "id": "aac1a1ff",
   "metadata": {},
   "outputs": [],
   "source": [
    "# How to use graph from external source\n",
    "from rdflib import Graph\n",
    "\n",
    "g = Graph()\n",
    "g.parse('http://www.w3.org/People/Berners-Lee/card')\n",
    "\n",
    "'''\n",
    "Graph contain list of triples and each triple has 3 attributes as,\n",
    "1. Subject\n",
    "2. Predict\n",
    "3. Object\n",
    "'''\n",
    "for subj, pred, obj in g:\n",
    "    if (subj, pred, obj) not in g:\n",
    "       raise Exception(\"It better be!\")"
   ]
  },
  {
   "cell_type": "code",
   "execution_count": 5,
   "id": "89c42d4a",
   "metadata": {
    "collapsed": true
   },
   "outputs": [
    {
     "data": {
      "text/plain": [
       "'@prefix : <http://xmlns.com/foaf/0.1/> .\\n@prefix B: <https://www.w3.org/People/Berners-Lee/> .\\n@prefix Be: <http://www.w3.org/People/Berners-Lee/> .\\n@prefix Pub: <https://timbl.com/timbl/Public/> .\\n@prefix blog: <http://dig.csail.mit.edu/breadcrumbs/blog/> .\\n@prefix card: <https://www.w3.org/People/Berners-Lee/card#> .\\n@prefix cc: <http://creativecommons.org/ns#> .\\n@prefix cert: <http://www.w3.org/ns/auth/cert#> .\\n@prefix con: <http://www.w3.org/2000/10/swap/pim/contact#> .\\n@prefix dc: <http://purl.org/dc/elements/1.1/> .\\n@prefix dct: <http://purl.org/dc/terms/> .\\n@prefix doap: <http://usefulinc.com/ns/doap#> .\\n@prefix geo: <http://www.w3.org/2003/01/geo/wgs84_pos#> .\\n@prefix ldp: <http://www.w3.org/ns/ldp#> .\\n@prefix s: <http://www.w3.org/2000/01/rdf-schema#> .\\n@prefix schema: <http://schema.org/> .\\n@prefix sioc: <http://rdfs.org/sioc/ns#> .\\n@prefix solid: <http://www.w3.org/ns/solid/terms#> .\\n@prefix space: <http://www.w3.org/ns/pim/space#> .\\n@prefix vcard: <http://www.w3.org/2006/vcard/ns#> .\\n@prefix w3c: <http://www.w3.org/data#> .\\n@prefix xsd: <http://www.w3.org/2001/XMLSchema#> .\\n\\n<http://dig.csail.mit.edu/2005/ajar/ajaw/data#Tabulator> doap:developer card:i .\\n\\n<http://dig.csail.mit.edu/2007/01/camp/data#course> :maker card:i .\\n\\n<http://dig.csail.mit.edu/data#DIG> :member card:i .\\n\\n<http://wiki.ontoworld.org/index.php/_IRW2006> dc:title \"Identity, Reference and the Web workshop 2006\" ;\\n    con:participant card:i .\\n\\n<http://www.ecs.soton.ac.uk/~dt2/dlstuff/www2006_data#panel-panelk01> s:label \"The Next Wave of the Web (Plenary Panel)\" ;\\n    con:participant card:i .\\n\\n<http://www.w3.org/2000/10/swap/data#Cwm> doap:developer card:i .\\n\\n<http://www.w3.org/2011/Talks/0331-hyderabad-tbl/data#talk> dct:title \"Designing the Web for an Open Society\" ;\\n    :maker card:i .\\n\\n<http://www.w3.org/DesignIssues/Overview.html> dc:title \"Design Issues for the World Wide Web\" ;\\n    :maker card:i .\\n\\nBe:card a :PersonalProfileDocument ;\\n    cc:license <http://creativecommons.org/licenses/by-nc/3.0/> ;\\n    dc:title \"Tim Berners-Lee\\'s FOAF file\" ;\\n    :maker card:i ;\\n    :primaryTopic card:i .\\n\\n<http://www.w3.org/People/Berners-Lee/card#i> cert:key [ a cert:RSAPublicKey ;\\n            cert:exponent 65537 ;\\n            cert:modulus \"ebe99c737bd3670239600547e5e2eb1d1497da39947b6576c3c44ffeca32cf0f2f7cbee3c47001278a90fc7fc5bcf292f741eb1fcd6bbe7f90650afb519cf13e81b2bffc6e02063ee5a55781d420b1dfaf61c15758480e66d47fb0dcb5fa7b9f7f1052e5ccbd01beee9553c3b6b51f4daf1fce991294cd09a3d1d636bc6c7656e4455d0aff06daec740ed0084aa6866fcae1359de61cc12dbe37c8fa42e977c6e727a8258bb9a3f265b27e3766fe0697f6aa0bcc81c3f026e387bd7bbc81580dc1853af2daa099186a9f59da526474ef6ec0a3d84cf400be3261b6b649dea1f78184862d34d685d2d587f09acc14cd8e578fdd2283387821296f0af39b8d8845\"^^xsd:hexBinary ] .\\n\\nw3c:W3C :member card:i .\\n\\nblog:4 dc:title \"timbl\\'s blog on DIG\" ;\\n    s:seeAlso <http://dig.csail.mit.edu/breadcrumbs/blog/feed/4> ;\\n    :maker card:i .\\n\\nPub:friends.ttl a :PersonalProfileDocument ;\\n    cc:license <http://creativecommons.org/licenses/by-nc/3.0/> ;\\n    dc:title \"Tim Berners-Lee\\'s editable profile\" ;\\n    :maker card:i ;\\n    :primaryTopic card:i .\\n\\ncard:i a con:Male,\\n        :Person ;\\n    s:label \"Tim Berners-Lee\" ;\\n    sioc:avatar <http://www.w3.org/People/Berners-Lee/images/timbl-image-by-Coz-cropped.jpg> ;\\n    schema:owns <https://timblbot.inrupt.net/profile/card#me> ;\\n    s:seeAlso Pub:friends.ttl ;\\n    con:assistant card:amy ;\\n    con:homePage Be: ;\\n    con:office [ con:address [ con:city \"Cambridge\" ;\\n                    con:country \"USA\" ;\\n                    con:postalCode \"02139\" ;\\n                    con:street \"32 Vassar Street\" ;\\n                    con:street2 \"MIT CSAIL Building 32\" ] ;\\n            geo:location [ geo:lat \"42.361860\" ;\\n                    geo:long \"-71.091840\" ] ] ;\\n    con:preferredURI \"https://www.w3.org/People/Berners-Lee/card#i\" ;\\n    con:publicHomePage Be: ;\\n    vcard:fn \"Tim Berners-Lee\" ;\\n    vcard:hasAddress [ a vcard:Work ;\\n            vcard:locality \"Cambridge\" ;\\n            vcard:postal-code \"02139\" ;\\n            vcard:region \"MA\" ;\\n            vcard:street-address \"32 Vassar Street\" ] ;\\n    ldp:inbox Pub:Inbox ;\\n    space:preferencesFile <https://timbl.com/timbl/Data/preferences.n3> ;\\n    space:storage Pub:,\\n        <https://timbl.inrupt.net/>,\\n        <https://timbl.solid.community/> ;\\n    solid:editableProfile Pub:friends.ttl ;\\n    solid:oidcIssuer <https://timbl.com> ;\\n    solid:profileBackgroundColor \"#ffffff\" ;\\n    solid:profileHighlightColor \"#00467E\" ;\\n    solid:publicTypeIndex Pub:PublicTypeIndex.ttl ;\\n    :account <http://en.wikipedia.org/wiki/User:Timbl>,\\n        <http://twitter.com/timberners_lee>,\\n        <http://www.reddit.com/user/timbl/> ;\\n    :based_near [ geo:lat \"42.361860\" ;\\n            geo:long \"-71.091840\" ] ;\\n    :family_name \"Berners-Lee\" ;\\n    :givenname \"Timothy\" ;\\n    :homepage B: ;\\n    :img <https://www.w3.org/Press/Stock/Berners-Lee/2001-europaeum-eighth.jpg> ;\\n    :mbox <mailto:timbl@w3.org> ;\\n    :mbox_sha1sum \"965c47c5a70db7407210cef6e4e6f5374a525c5c\" ;\\n    :name \"Timothy Berners-Lee\" ;\\n    :nick \"TimBL\",\\n        \"timbl\" ;\\n    :openid B: ;\\n    :title \"Sir\" ;\\n    :weblog blog:4 ;\\n    :workplaceHomepage <https://www.w3.org/> .\\n\\n'"
      ]
     },
     "execution_count": 5,
     "metadata": {},
     "output_type": "execute_result"
    }
   ],
   "source": [
    "g.serialize(format='turtle').encode().decode('utf-8')"
   ]
  },
  {
   "cell_type": "markdown",
   "id": "77e763ea",
   "metadata": {},
   "source": [
    "## Create new graph from scratch"
   ]
  },
  {
   "cell_type": "code",
   "execution_count": 9,
   "id": "2c912d06",
   "metadata": {
    "collapsed": true
   },
   "outputs": [
    {
     "name": "stdout",
     "output_type": "stream",
     "text": [
      "(rdflib.term.URIRef('http://example.com/john'),\n",
      " rdflib.term.URIRef('http://xmlns.com/foaf/0.1/mbox'),\n",
      " rdflib.term.URIRef('john@example.com'))\n",
      "\n",
      "\n",
      "(rdflib.term.URIRef('http://example.com/alex'),\n",
      " rdflib.term.URIRef('http://xmlns.com/foaf/0.1/mbox'),\n",
      " rdflib.term.Literal('alex@example.com', datatype=rdflib.term.URIRef('http://www.w3.org/2001/XMLSchema#anyURI')))\n",
      "\n",
      "\n",
      "(rdflib.term.URIRef('http://example.com/alex'),\n",
      " rdflib.term.URIRef('http://xmlns.com/foaf/0.1/nick'),\n",
      " rdflib.term.Literal('ale', datatype=rdflib.term.URIRef('http://www.w3.org/2001/XMLSchema#string')))\n",
      "\n",
      "\n",
      "(rdflib.term.URIRef('http://example.com/john'),\n",
      " rdflib.term.URIRef('http://www.w3.org/1999/02/22-rdf-syntax-ns#type'),\n",
      " rdflib.term.URIRef('http://xmlns.com/foaf/0.1/Person'))\n",
      "\n",
      "\n",
      "(rdflib.term.URIRef('http://example.com/john'),\n",
      " rdflib.term.URIRef('http://xmlns.com/foaf/0.1/name'),\n",
      " rdflib.term.Literal('John Simson'))\n",
      "\n",
      "\n",
      "(rdflib.term.URIRef('http://example.com/john'),\n",
      " rdflib.term.URIRef('http://xmlns.com/foaf/0.1/nick'),\n",
      " rdflib.term.Literal('Jonny', lang='en'))\n",
      "\n",
      "\n",
      "(rdflib.term.URIRef('http://example.com/alex'),\n",
      " rdflib.term.URIRef('http://www.w3.org/1999/02/22-rdf-syntax-ns#type'),\n",
      " rdflib.term.URIRef('http://xmlns.com/foaf/0.1/Person'))\n",
      "\n",
      "\n",
      "(rdflib.term.URIRef('http://example.com/alex'),\n",
      " rdflib.term.URIRef('http://xmlns.com/foaf/0.1/name'),\n",
      " rdflib.term.Literal('Alex Refeal'))\n",
      "\n",
      "\n"
     ]
    }
   ],
   "source": [
    "# Create new graph\n",
    "from rdflib import Graph, Literal, RDF, URIRef\n",
    "from rdflib.namespace import FOAF, XSD\n",
    "import pprint\n",
    "\n",
    "graph = Graph()\n",
    "\n",
    "# Create subjects and add triples using add() method\n",
    "john = URIRef('http://example.com/john')\n",
    "graph.add((john, RDF.type, FOAF.Person))\n",
    "graph.add((john, FOAF.nick, Literal('Jonny', lang='en')))\n",
    "graph.add((john, FOAF.name, Literal('John Simson')))\n",
    "graph.add((john, FOAF.mbox, URIRef('john@example.com')))\n",
    "\n",
    "alex = URIRef('http://example.com/alex')\n",
    "graph.add((alex, RDF.type, FOAF.Person))\n",
    "graph.add((alex, FOAF.nick, Literal('ale', datatype=XSD.string)))\n",
    "graph.add((alex, FOAF.name, Literal('Alex Refeal')))\n",
    "graph.add((alex, FOAF.mbox, Literal('alex@example.com', datatype=XSD.anyURI)))\n",
    "\n",
    "# Bind namespace to custom readable prefix\n",
    "graph.bind('foaf', FOAF)\n",
    "\n",
    "# Iterating over graph\n",
    "for triple in graph:\n",
    "    pprint.pprint(triple)\n",
    "    print('\\n')"
   ]
  },
  {
   "cell_type": "code",
   "execution_count": 13,
   "id": "26b5526e",
   "metadata": {},
   "outputs": [
    {
     "name": "stdout",
     "output_type": "stream",
     "text": [
      "@prefix foaf: <http://xmlns.com/foaf/0.1/> .\n",
      "@prefix xsd: <http://www.w3.org/2001/XMLSchema#> .\n",
      "\n",
      "<http://example.com/alex> a foaf:Person ;\n",
      "    foaf:mbox \"alex@example.com\"^^xsd:anyURI ;\n",
      "    foaf:name \"Alex Refeal\" ;\n",
      "    foaf:nick \"ale\"^^xsd:string .\n",
      "\n",
      "<http://example.com/john> a foaf:Person ;\n",
      "    foaf:mbox <john@example.com> ;\n",
      "    foaf:name \"John Simson\" ;\n",
      "    foaf:nick \"Jonny\"@en .\n",
      "\n",
      "\n"
     ]
    }
   ],
   "source": [
    "print(graph.serialize(format='turtle').encode().decode('utf-8'))"
   ]
  },
  {
   "cell_type": "code",
   "execution_count": 27,
   "id": "84f9552e",
   "metadata": {},
   "outputs": [
    {
     "name": "stdout",
     "output_type": "stream",
     "text": [
      "@prefix foaf: <http://xmlns.com/foaf/0.1/> .\n",
      "@prefix xsd: <http://www.w3.org/2001/XMLSchema#> .\n",
      "\n",
      "<http://example.com/users/bob> a foaf:Person ;\n",
      "    foaf:age 22 ;\n",
      "    foaf:name \"Bob\"@en .\n",
      "\n",
      "<http://example.com/users/linda> a foaf:Person ;\n",
      "    foaf:name \"Linda\"@en ;\n",
      "    foaf:nick \"bobby\" .\n",
      "\n",
      "\n"
     ]
    }
   ],
   "source": [
    "# Example 2\n",
    "from rdflib import URIRef, BNode, Literal, Namespace, Graph\n",
    "from rdflib.namespace import RDF, FOAF\n",
    "\n",
    "name = Literal('Bob', lang='en')\n",
    "age = Literal(22)\n",
    "height = Literal(175)\n",
    "\n",
    "ns = Namespace('http://example.com/users/')\n",
    "\n",
    "ug = Graph()\n",
    "ug.add((ns.bob, RDF.type, FOAF.Person))\n",
    "ug.add((ns.bob, FOAF.name, name))\n",
    "ug.add((ns.bob, FOAF.age, age))\n",
    "\n",
    "ug.add((ns.linda, RDF.type, FOAF.Person))\n",
    "ug.add((ns.linda, FOAF.name, Literal('Linda', lang='en')))\n",
    "ug.add((ns.linda, FOAF.nick, Literal('bobby')))\n",
    "\n",
    "ug.bind('foaf', FOAF)\n",
    "ug.bind('rdf', RDF)\n",
    "\n",
    "print(ug.serialize(format='turtle'))"
   ]
  },
  {
   "cell_type": "code",
   "execution_count": 28,
   "id": "b7f889d0",
   "metadata": {},
   "outputs": [
    {
     "name": "stdout",
     "output_type": "stream",
     "text": [
      "@prefix foaf: <http://xmlns.com/foaf/0.1/> .\n",
      "@prefix xsd: <http://www.w3.org/2001/XMLSchema#> .\n",
      "\n",
      "<http://example.com/users/bob> a foaf:Person ;\n",
      "    foaf:age 32 ;\n",
      "    foaf:name \"Bob\"@en .\n",
      "\n",
      "<http://example.com/users/linda> a foaf:Person ;\n",
      "    foaf:name \"Linda\"@en ;\n",
      "    foaf:nick \"bobby\" .\n",
      "\n",
      "\n"
     ]
    }
   ],
   "source": [
    "# Update Values\n",
    "ug.set((ns.bob, FOAF.age, Literal(32)))\n",
    "\n",
    "print(ug.serialize(format='turtle'))"
   ]
  },
  {
   "cell_type": "code",
   "execution_count": 30,
   "id": "5990bb1d",
   "metadata": {},
   "outputs": [
    {
     "name": "stdout",
     "output_type": "stream",
     "text": [
      "@prefix foaf: <http://xmlns.com/foaf/0.1/> .\n",
      "@prefix xsd: <http://www.w3.org/2001/XMLSchema#> .\n",
      "\n",
      "<http://example.com/users/bob> a foaf:Person ;\n",
      "    foaf:age 32 ;\n",
      "    foaf:name \"Bob\"@en .\n",
      "\n",
      "<http://example.com/users/linda> a foaf:Person ;\n",
      "    foaf:name \"Linda\"@en .\n",
      "\n",
      "\n"
     ]
    }
   ],
   "source": [
    "# Remove Values\n",
    "ug.remove((ns.linda, FOAF.nick, None))\n",
    "\n",
    "print(ug.serialize(format='turtle'))"
   ]
  },
  {
   "cell_type": "markdown",
   "id": "2a813d12",
   "metadata": {},
   "source": [
    "## Navigate graph using SPARQL Query"
   ]
  },
  {
   "cell_type": "code",
   "execution_count": 19,
   "id": "95c20107",
   "metadata": {},
   "outputs": [
    {
     "name": "stdout",
     "output_type": "stream",
     "text": [
      "John Simson john@example.com\n",
      "Alex Refeal alex@example.com\n"
     ]
    }
   ],
   "source": [
    "query_names = '''\n",
    "    PREFIX foaf: <http://xmlns.com/foaf/0.1/>\n",
    "\n",
    "    SELECT ?name ?mbox\n",
    "    WHERE {\n",
    "        ?p rdf:type foaf:Person .\n",
    "\n",
    "        ?p foaf:name ?name .\n",
    "        ?p foaf:mbox ?mbox .\n",
    "    }\n",
    "    '''\n",
    "    \n",
    "for res in graph.query(query_names):\n",
    "    print(res['name'], res['mbox'])"
   ]
  }
 ],
 "metadata": {
  "kernelspec": {
   "display_name": "Python 3 (ipykernel)",
   "language": "python",
   "name": "python3"
  },
  "language_info": {
   "codemirror_mode": {
    "name": "ipython",
    "version": 3
   },
   "file_extension": ".py",
   "mimetype": "text/x-python",
   "name": "python",
   "nbconvert_exporter": "python",
   "pygments_lexer": "ipython3",
   "version": "3.9.12"
  }
 },
 "nbformat": 4,
 "nbformat_minor": 5
}
