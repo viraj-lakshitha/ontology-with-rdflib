{
 "cells": [
  {
   "cell_type": "code",
   "execution_count": 1,
   "id": "16628ad7",
   "metadata": {},
   "outputs": [],
   "source": [
    "from rdflib import Graph, URIRef, BNode, Literal, Namespace\n",
    "from rdflib.namespace import FOAF, DCTERMS, XSD, RDF, SDO\n",
    "\n",
    "# Create Notes\n",
    "monalisa = URIRef('https://wikidata.org/entity/Q12418')\n",
    "davinci = URIRef('https://dbpedia.org/resource/Leonardo_da_Vinci')\n",
    "lajoconde = URIRef('https://data.european.eu/item/0482/243FA8618938F4117025F17A8B813C5F9AA4D619')\n",
    "\n",
    "# Create nodes using NameSpace\n",
    "EXT = Namespace('http://example.org/')\n",
    "bob = EXT['Bob']\n",
    "alice = EXT['Alice']\n",
    "\n",
    "birth_date = Literal(\"1990-09-11\", datatype=XSD['date'])\n",
    "title = Literal('Mona Lisa', lang='en')"
   ]
  },
  {
   "cell_type": "code",
   "execution_count": 2,
   "id": "a87d2068",
   "metadata": {},
   "outputs": [
    {
     "data": {
      "text/plain": [
       "<Graph identifier=N2e930010385e470fa2a6ccf8b713d2fc (<class 'rdflib.graph.Graph'>)>"
      ]
     },
     "execution_count": 2,
     "metadata": {},
     "output_type": "execute_result"
    }
   ],
   "source": [
    "g = Graph()\n",
    "\n",
    "\"\"\"\n",
    "Bind prefix to get rid of followings\n",
    "@prefix ns1: <http://xmlns.com/foaf/0.1/> .\n",
    "@prefix ns2: <http://purl.org/dc/terms/> .\n",
    "@prefix ns3: <https://schema.org/> .\n",
    "@prefix xsd: <http://www.w3.org/2001/XMLSchema#> .\n",
    "\"\"\"\n",
    "\n",
    "g.bind('ext', EXT)\n",
    "g.bind('foaf', FOAF)\n",
    "g.bind('schema', SDO)\n",
    "g.bind('dcterms', DCTERMS)\n",
    "\n",
    "g.add((bob, RDF.type, FOAF.Person))\n",
    "g.add((bob, FOAF.knows, alice))\n",
    "g.add((bob, FOAF['topic_interest'], monalisa))\n",
    "g.add((bob, SDO['birthDate'], birth_date))\n",
    "g.add((monalisa, DCTERMS['creator'], davinci))\n",
    "g.add((monalisa, DCTERMS['title'], davinci))\n",
    "g.add((monalisa, DCTERMS['subject'], davinci))"
   ]
  },
  {
   "cell_type": "code",
   "execution_count": 3,
   "id": "eb11606d",
   "metadata": {},
   "outputs": [
    {
     "name": "stdout",
     "output_type": "stream",
     "text": [
      "@prefix dcterms: <http://purl.org/dc/terms/> .\n",
      "@prefix ext: <http://example.org/> .\n",
      "@prefix foaf: <http://xmlns.com/foaf/0.1/> .\n",
      "@prefix schema: <https://schema.org/> .\n",
      "@prefix xsd: <http://www.w3.org/2001/XMLSchema#> .\n",
      "\n",
      "ext:Bob a foaf:Person ;\n",
      "    foaf:knows ext:Alice ;\n",
      "    foaf:topic_interest <https://wikidata.org/entity/Q12418> ;\n",
      "    schema:birthDate \"1990-09-11\"^^xsd:date .\n",
      "\n",
      "<https://wikidata.org/entity/Q12418> dcterms:creator <https://dbpedia.org/resource/Leonardo_da_Vinci> ;\n",
      "    dcterms:subject <https://dbpedia.org/resource/Leonardo_da_Vinci> ;\n",
      "    dcterms:title <https://dbpedia.org/resource/Leonardo_da_Vinci> .\n",
      "\n",
      "\n"
     ]
    }
   ],
   "source": [
    "print(g.serialize(format='ttl').encode().decode('u8'))"
   ]
  },
  {
   "cell_type": "code",
   "execution_count": 4,
   "id": "fe77be88",
   "metadata": {},
   "outputs": [
    {
     "data": {
      "text/plain": [
       "<Graph identifier=N2e930010385e470fa2a6ccf8b713d2fc (<class 'rdflib.graph.Graph'>)>"
      ]
     },
     "execution_count": 4,
     "metadata": {},
     "output_type": "execute_result"
    }
   ],
   "source": [
    "# Update the Literal Values\n",
    "g.set((bob, SDO['birthDate'], Literal('1990-01-01', datatype=XSD.date)))\n",
    "g.set((bob, DCTERMS['title'], Literal('La Joconde', lang='fr')))"
   ]
  },
  {
   "cell_type": "code",
   "execution_count": 5,
   "id": "60089699",
   "metadata": {},
   "outputs": [
    {
     "name": "stdout",
     "output_type": "stream",
     "text": [
      "@prefix dcterms: <http://purl.org/dc/terms/> .\n",
      "@prefix ext: <http://example.org/> .\n",
      "@prefix foaf: <http://xmlns.com/foaf/0.1/> .\n",
      "@prefix schema: <https://schema.org/> .\n",
      "@prefix xsd: <http://www.w3.org/2001/XMLSchema#> .\n",
      "\n",
      "ext:Bob a foaf:Person ;\n",
      "    dcterms:title \"La Joconde\"@fr ;\n",
      "    foaf:knows ext:Alice ;\n",
      "    foaf:topic_interest <https://wikidata.org/entity/Q12418> ;\n",
      "    schema:birthDate \"1990-01-01\"^^xsd:date .\n",
      "\n",
      "<https://wikidata.org/entity/Q12418> dcterms:creator <https://dbpedia.org/resource/Leonardo_da_Vinci> ;\n",
      "    dcterms:subject <https://dbpedia.org/resource/Leonardo_da_Vinci> ;\n",
      "    dcterms:title <https://dbpedia.org/resource/Leonardo_da_Vinci> .\n",
      "\n",
      "\n"
     ]
    }
   ],
   "source": [
    "print(g.serialize(format='ttl').encode().decode('u8'))"
   ]
  },
  {
   "cell_type": "code",
   "execution_count": 6,
   "id": "41e71298",
   "metadata": {},
   "outputs": [
    {
     "data": {
      "text/plain": [
       "<Graph identifier=N2e930010385e470fa2a6ccf8b713d2fc (<class 'rdflib.graph.Graph'>)>"
      ]
     },
     "execution_count": 6,
     "metadata": {},
     "output_type": "execute_result"
    }
   ],
   "source": [
    "# Remove triples from graph\n",
    "g.remove((lajoconde, None, None))"
   ]
  },
  {
   "cell_type": "code",
   "execution_count": 7,
   "id": "820cddff",
   "metadata": {},
   "outputs": [
    {
     "name": "stdout",
     "output_type": "stream",
     "text": [
      "@prefix dcterms: <http://purl.org/dc/terms/> .\n",
      "@prefix ext: <http://example.org/> .\n",
      "@prefix foaf: <http://xmlns.com/foaf/0.1/> .\n",
      "@prefix schema: <https://schema.org/> .\n",
      "@prefix xsd: <http://www.w3.org/2001/XMLSchema#> .\n",
      "\n",
      "ext:Bob a foaf:Person ;\n",
      "    dcterms:title \"La Joconde\"@fr ;\n",
      "    foaf:knows ext:Alice ;\n",
      "    foaf:topic_interest <https://wikidata.org/entity/Q12418> ;\n",
      "    schema:birthDate \"1990-01-01\"^^xsd:date .\n",
      "\n",
      "<https://wikidata.org/entity/Q12418> dcterms:creator <https://dbpedia.org/resource/Leonardo_da_Vinci> ;\n",
      "    dcterms:subject <https://dbpedia.org/resource/Leonardo_da_Vinci> ;\n",
      "    dcterms:title <https://dbpedia.org/resource/Leonardo_da_Vinci> .\n",
      "\n",
      "\n"
     ]
    }
   ],
   "source": [
    "print(g.serialize(format='ttl').encode().decode('u8'))"
   ]
  },
  {
   "cell_type": "code",
   "execution_count": 8,
   "id": "710c131d",
   "metadata": {},
   "outputs": [
    {
     "data": {
      "text/plain": [
       "<Graph identifier=N2e930010385e470fa2a6ccf8b713d2fc (<class 'rdflib.graph.Graph'>)>"
      ]
     },
     "execution_count": 8,
     "metadata": {},
     "output_type": "execute_result"
    }
   ],
   "source": [
    "g.serialize(destination='simple-rdf-graph.xml', format='xml')"
   ]
  }
 ],
 "metadata": {
  "kernelspec": {
   "display_name": "Python 3 (ipykernel)",
   "language": "python",
   "name": "python3"
  },
  "language_info": {
   "codemirror_mode": {
    "name": "ipython",
    "version": 3
   },
   "file_extension": ".py",
   "mimetype": "text/x-python",
   "name": "python",
   "nbconvert_exporter": "python",
   "pygments_lexer": "ipython3",
   "version": "3.9.12"
  }
 },
 "nbformat": 4,
 "nbformat_minor": 5
}
