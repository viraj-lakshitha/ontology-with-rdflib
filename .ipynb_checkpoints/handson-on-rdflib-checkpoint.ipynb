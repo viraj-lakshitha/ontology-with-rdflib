{
 "cells": [
  {
   "cell_type": "code",
   "execution_count": 1,
   "id": "98664585",
   "metadata": {},
   "outputs": [
    {
     "name": "stdout",
     "output_type": "stream",
     "text": [
      "Requirement already satisfied: rdflib in /Users/viraj-lakshitha/opt/anaconda3/lib/python3.9/site-packages (6.2.0)\n",
      "Requirement already satisfied: setuptools in /Users/viraj-lakshitha/opt/anaconda3/lib/python3.9/site-packages (from rdflib) (61.2.0)\n",
      "Requirement already satisfied: pyparsing in /Users/viraj-lakshitha/opt/anaconda3/lib/python3.9/site-packages (from rdflib) (3.0.4)\n",
      "Requirement already satisfied: isodate in /Users/viraj-lakshitha/opt/anaconda3/lib/python3.9/site-packages (from rdflib) (0.6.1)\n",
      "Requirement already satisfied: six in /Users/viraj-lakshitha/opt/anaconda3/lib/python3.9/site-packages (from isodate->rdflib) (1.16.0)\n"
     ]
    }
   ],
   "source": [
    "# Install rdflib\n",
    "!pip install rdflib"
   ]
  },
  {
   "cell_type": "code",
   "execution_count": 2,
   "id": "26d02930",
   "metadata": {},
   "outputs": [],
   "source": [
    "# Imports\n",
    "'''\n",
    "* Namespace - for define and query data\n",
    "* URIRef - URI reference\n",
    "* Literal - String/Numbers references\n",
    "'''\n",
    "from rdflib import Graph, Namespace, URIRef, Literal\n",
    "\n",
    "'''\n",
    "Term definition - https://rdflib.readthedocs.io/en/stable/rdf_terms.html\n",
    "\n",
    "SKOS - Simple knowledge organizing system\n",
    "FOAF - Friend of a friend\n",
    "'''\n",
    "from rdflib.namespace import RDF, RDFS, SKOS, FOAF"
   ]
  },
  {
   "cell_type": "code",
   "execution_count": 3,
   "id": "6da118dc",
   "metadata": {},
   "outputs": [
    {
     "data": {
      "text/plain": [
       "<Graph identifier=Nc1024b8a48b348e69c25961862a9a21e (<class 'rdflib.graph.Graph'>)>"
      ]
     },
     "execution_count": 3,
     "metadata": {},
     "output_type": "execute_result"
    }
   ],
   "source": [
    "nspace = Namespace('https://data.nobelprize.org/resource/laureate/999')\n",
    "\n",
    "g = Graph()\n",
    "resource = 'https://data.nobelprize.org/store/6/metadata/3980?recursive=laureate&format=text/turtle'\n",
    "\n",
    "g.namespace_manager.bind('n1', nspace) # Creating @prefix n1: <https://data.nobelprize.org/resource/laureate/999>\n",
    "\n",
    "# Save rdf graph as xml for future use\n",
    "g.parse(resource, format='turtle')\n",
    "g.serialize(destination='syukuro-noble-sample-turtle.xml', format='xml')"
   ]
  },
  {
   "cell_type": "code",
   "execution_count": 4,
   "id": "64bdaee5",
   "metadata": {
    "slideshow": {
     "slide_type": "-"
    }
   },
   "outputs": [
    {
     "name": "stdout",
     "output_type": "stream",
     "text": [
      "http://data.nobelprize.org/resource/laureate/999 -> http://dbpedia.org/ontology/affiliation -> http://data.nobelprize.org/resource/university/Princeton_University\n",
      "\n",
      "http://data.nobelprize.org/resource/laureate/999 -> http://xmlns.com/foaf/0.1/familyName -> Manabe\n",
      "\n",
      "http://data.nobelprize.org/resource/laureate/999 -> http://www.w3.org/2002/07/owl#sameAs -> n99a430522bbf4a6b85270ccad09022a8b1\n",
      "\n",
      "http://data.nobelprize.org/resource/laureate/999 -> http://dbpedia.org/property/dateOfBirth -> 1931-09-21\n",
      "\n",
      "http://data.nobelprize.org/resource/laureate/999 -> http://www.w3.org/2002/07/owl#sameAs -> http://www.wikidata.org/entity/Q3675789\n",
      "\n",
      "http://data.nobelprize.org/resource/laureate/999 -> http://www.w3.org/1999/02/22-rdf-syntax-ns#type -> http://data.nobelprize.org/terms/Laureate\n",
      "\n",
      "http://data.nobelprize.org/resource/laureate/999 -> http://xmlns.com/foaf/0.1/gender -> male\n",
      "\n",
      "http://data.nobelprize.org/resource/laureate/999 -> http://dbpedia.org/ontology/birthPlace -> http://data.nobelprize.org/resource/city/Shingu%2C_Ehime\n",
      "\n",
      "http://data.nobelprize.org/resource/laureate/999 -> http://dbpedia.org/ontology/birthPlace -> http://data.nobelprize.org/resource/country/Japan\n",
      "\n",
      "http://data.nobelprize.org/resource/laureate/999 -> http://data.nobelprize.org/terms/laureateAward -> http://data.nobelprize.org/resource/laureateaward/Physics/2021/999\n",
      "\n",
      "http://data.nobelprize.org/resource/laureate/999 -> http://www.w3.org/2000/01/rdf-schema#label -> Syukuro Manabe\n",
      "\n",
      "http://data.nobelprize.org/resource/laureate/999 -> http://xmlns.com/foaf/0.1/birthday -> 1931-09-21\n",
      "\n",
      "http://data.nobelprize.org/resource/laureate/999 -> http://www.w3.org/1999/02/22-rdf-syntax-ns#type -> http://xmlns.com/foaf/0.1/Person\n",
      "\n",
      "http://data.nobelprize.org/resource/laureate/999 -> http://xmlns.com/foaf/0.1/givenName -> Syukuro\n",
      "\n",
      "http://data.nobelprize.org/resource/laureate/999 -> http://data.nobelprize.org/terms/nobelPrize -> http://data.nobelprize.org/resource/nobelprize/Physics/2021\n",
      "\n",
      "http://data.nobelprize.org/resource/laureate/999 -> http://xmlns.com/foaf/0.1/name -> Syukuro Manabe\n",
      "\n"
     ]
    }
   ],
   "source": [
    "for s, p, o in g:\n",
    "    print(f'{s} -> {p} -> {o}\\n')"
   ]
  },
  {
   "cell_type": "code",
   "execution_count": 5,
   "id": "7b932834",
   "metadata": {
    "collapsed": true
   },
   "outputs": [
    {
     "name": "stdout",
     "output_type": "stream",
     "text": [
      "(rdflib.term.URIRef('http://data.nobelprize.org/resource/laureate/999'),\n",
      " rdflib.term.URIRef('http://dbpedia.org/ontology/affiliation'),\n",
      " rdflib.term.URIRef('http://data.nobelprize.org/resource/university/Princeton_University'))\n",
      "(rdflib.term.URIRef('http://data.nobelprize.org/resource/laureate/999'),\n",
      " rdflib.term.URIRef('http://xmlns.com/foaf/0.1/familyName'),\n",
      " rdflib.term.Literal('Manabe'))\n",
      "(rdflib.term.URIRef('http://data.nobelprize.org/resource/laureate/999'),\n",
      " rdflib.term.URIRef('http://www.w3.org/2002/07/owl#sameAs'),\n",
      " rdflib.term.BNode('n99a430522bbf4a6b85270ccad09022a8b1'))\n",
      "(rdflib.term.URIRef('http://data.nobelprize.org/resource/laureate/999'),\n",
      " rdflib.term.URIRef('http://dbpedia.org/property/dateOfBirth'),\n",
      " rdflib.term.Literal('1931-09-21', datatype=rdflib.term.URIRef('http://www.w3.org/2001/XMLSchema#date')))\n",
      "(rdflib.term.URIRef('http://data.nobelprize.org/resource/laureate/999'),\n",
      " rdflib.term.URIRef('http://www.w3.org/2002/07/owl#sameAs'),\n",
      " rdflib.term.URIRef('http://www.wikidata.org/entity/Q3675789'))\n",
      "(rdflib.term.URIRef('http://data.nobelprize.org/resource/laureate/999'),\n",
      " rdflib.term.URIRef('http://www.w3.org/1999/02/22-rdf-syntax-ns#type'),\n",
      " rdflib.term.URIRef('http://data.nobelprize.org/terms/Laureate'))\n",
      "(rdflib.term.URIRef('http://data.nobelprize.org/resource/laureate/999'),\n",
      " rdflib.term.URIRef('http://xmlns.com/foaf/0.1/gender'),\n",
      " rdflib.term.Literal('male'))\n",
      "(rdflib.term.URIRef('http://data.nobelprize.org/resource/laureate/999'),\n",
      " rdflib.term.URIRef('http://dbpedia.org/ontology/birthPlace'),\n",
      " rdflib.term.URIRef('http://data.nobelprize.org/resource/city/Shingu%2C_Ehime'))\n",
      "(rdflib.term.URIRef('http://data.nobelprize.org/resource/laureate/999'),\n",
      " rdflib.term.URIRef('http://dbpedia.org/ontology/birthPlace'),\n",
      " rdflib.term.URIRef('http://data.nobelprize.org/resource/country/Japan'))\n",
      "(rdflib.term.URIRef('http://data.nobelprize.org/resource/laureate/999'),\n",
      " rdflib.term.URIRef('http://data.nobelprize.org/terms/laureateAward'),\n",
      " rdflib.term.URIRef('http://data.nobelprize.org/resource/laureateaward/Physics/2021/999'))\n",
      "(rdflib.term.URIRef('http://data.nobelprize.org/resource/laureate/999'),\n",
      " rdflib.term.URIRef('http://www.w3.org/2000/01/rdf-schema#label'),\n",
      " rdflib.term.Literal('Syukuro Manabe'))\n",
      "(rdflib.term.URIRef('http://data.nobelprize.org/resource/laureate/999'),\n",
      " rdflib.term.URIRef('http://xmlns.com/foaf/0.1/birthday'),\n",
      " rdflib.term.Literal('1931-09-21', datatype=rdflib.term.URIRef('http://www.w3.org/2001/XMLSchema#date')))\n",
      "(rdflib.term.URIRef('http://data.nobelprize.org/resource/laureate/999'),\n",
      " rdflib.term.URIRef('http://www.w3.org/1999/02/22-rdf-syntax-ns#type'),\n",
      " rdflib.term.URIRef('http://xmlns.com/foaf/0.1/Person'))\n",
      "(rdflib.term.URIRef('http://data.nobelprize.org/resource/laureate/999'),\n",
      " rdflib.term.URIRef('http://xmlns.com/foaf/0.1/givenName'),\n",
      " rdflib.term.Literal('Syukuro'))\n",
      "(rdflib.term.URIRef('http://data.nobelprize.org/resource/laureate/999'),\n",
      " rdflib.term.URIRef('http://data.nobelprize.org/terms/nobelPrize'),\n",
      " rdflib.term.URIRef('http://data.nobelprize.org/resource/nobelprize/Physics/2021'))\n",
      "(rdflib.term.URIRef('http://data.nobelprize.org/resource/laureate/999'),\n",
      " rdflib.term.URIRef('http://xmlns.com/foaf/0.1/name'),\n",
      " rdflib.term.Literal('Syukuro Manabe'))\n"
     ]
    }
   ],
   "source": [
    "import pprint\n",
    "for triple in g:\n",
    "    pprint.pprint(triple)"
   ]
  },
  {
   "cell_type": "code",
   "execution_count": 6,
   "id": "2927ddbf",
   "metadata": {},
   "outputs": [
    {
     "data": {
      "text/plain": [
       "<Graph identifier=Nc1024b8a48b348e69c25961862a9a21e (<class 'rdflib.graph.Graph'>)>"
      ]
     },
     "execution_count": 6,
     "metadata": {},
     "output_type": "execute_result"
    }
   ],
   "source": [
    "# Adding new triples to existing\n",
    "g.add((nspace['101'], RDF.type, FOAF.Person)) # <n1:101 rdf.type foaf:Person>\n",
    "g.add((nspace['101'], RDF.type, URIRef('https://data.nobelprize.org/terms/Laureate')))\n",
    "g.add((nspace['101'], RDFS.label, Literal(\"Antony Hewish\", lang=\"en\")))\n",
    "g.add((nspace['101'], FOAF.givenName, Literal(\"Antony\")))\n",
    "g.add((nspace['101'], FOAF.name, Literal(\"Antony Hewish\")))"
   ]
  },
  {
   "cell_type": "code",
   "execution_count": 7,
   "id": "9af74b0c",
   "metadata": {
    "collapsed": true,
    "slideshow": {
     "slide_type": "-"
    }
   },
   "outputs": [
    {
     "name": "stdout",
     "output_type": "stream",
     "text": [
      "<?xml version=\"1.0\" encoding=\"utf-8\"?>\n",
      "<rdf:RDF\n",
      "   xmlns:foaf=\"http://xmlns.com/foaf/0.1/\"\n",
      "   xmlns:ns1=\"http://dbpedia.org/property/\"\n",
      "   xmlns:ns2=\"http://dbpedia.org/ontology/\"\n",
      "   xmlns:ns3=\"http://data.nobelprize.org/terms/\"\n",
      "   xmlns:owl=\"http://www.w3.org/2002/07/owl#\"\n",
      "   xmlns:rdf=\"http://www.w3.org/1999/02/22-rdf-syntax-ns#\"\n",
      "   xmlns:rdfs=\"http://www.w3.org/2000/01/rdf-schema#\"\n",
      ">\n",
      "  <rdf:Description rdf:about=\"http://data.nobelprize.org/resource/laureate/999\">\n",
      "    <rdf:type rdf:resource=\"http://data.nobelprize.org/terms/Laureate\"/>\n",
      "    <rdf:type rdf:resource=\"http://xmlns.com/foaf/0.1/Person\"/>\n",
      "    <foaf:name>Syukuro Manabe</foaf:name>\n",
      "    <foaf:familyName>Manabe</foaf:familyName>\n",
      "    <foaf:givenName>Syukuro</foaf:givenName>\n",
      "    <rdfs:label>Syukuro Manabe</rdfs:label>\n",
      "    <ns3:laureateAward rdf:resource=\"http://data.nobelprize.org/resource/laureateaward/Physics/2021/999\"/>\n",
      "    <ns2:affiliation rdf:resource=\"http://data.nobelprize.org/resource/university/Princeton_University\"/>\n",
      "    <foaf:gender>male</foaf:gender>\n",
      "    <ns1:dateOfBirth rdf:datatype=\"http://www.w3.org/2001/XMLSchema#date\">1931-09-21</ns1:dateOfBirth>\n",
      "    <ns2:birthPlace rdf:resource=\"http://data.nobelprize.org/resource/country/Japan\"/>\n",
      "    <ns2:birthPlace rdf:resource=\"http://data.nobelprize.org/resource/city/Shingu%2C_Ehime\"/>\n",
      "    <ns3:nobelPrize rdf:resource=\"http://data.nobelprize.org/resource/nobelprize/Physics/2021\"/>\n",
      "    <owl:sameAs rdf:resource=\"http://www.wikidata.org/entity/Q3675789\"/>\n",
      "    <owl:sameAs rdf:nodeID=\"n99a430522bbf4a6b85270ccad09022a8b1\"/>\n",
      "    <foaf:birthday rdf:datatype=\"http://www.w3.org/2001/XMLSchema#date\">1931-09-21</foaf:birthday>\n",
      "  </rdf:Description>\n",
      "  <rdf:Description rdf:about=\"https://data.nobelprize.org/resource/laureate/999101\">\n",
      "    <rdf:type rdf:resource=\"http://xmlns.com/foaf/0.1/Person\"/>\n",
      "    <rdf:type rdf:resource=\"https://data.nobelprize.org/terms/Laureate\"/>\n",
      "    <rdfs:label xml:lang=\"en\">Antony Hewish</rdfs:label>\n",
      "    <foaf:givenName>Antony</foaf:givenName>\n",
      "    <foaf:name>Antony Hewish</foaf:name>\n",
      "  </rdf:Description>\n",
      "</rdf:RDF>\n",
      "\n"
     ]
    }
   ],
   "source": [
    "print(g.serialize(format='xml').encode().decode('utf-8'))"
   ]
  },
  {
   "cell_type": "code",
   "execution_count": 8,
   "id": "5be6afa8",
   "metadata": {},
   "outputs": [
    {
     "data": {
      "text/plain": [
       "<Graph identifier=Nc1024b8a48b348e69c25961862a9a21e (<class 'rdflib.graph.Graph'>)>"
      ]
     },
     "execution_count": 8,
     "metadata": {},
     "output_type": "execute_result"
    }
   ],
   "source": [
    "# Remove triples from graph\n",
    "g.remove((nspace['101'], None, None)) # remove all the data regarding id=101"
   ]
  },
  {
   "cell_type": "code",
   "execution_count": 11,
   "id": "b1940db7",
   "metadata": {
    "slideshow": {
     "slide_type": "-"
    }
   },
   "outputs": [
    {
     "name": "stdout",
     "output_type": "stream",
     "text": [
      "@prefix foaf: <http://xmlns.com/foaf/0.1/> .\n",
      "@prefix ns1: <http://dbpedia.org/property/> .\n",
      "@prefix ns2: <http://dbpedia.org/ontology/> .\n",
      "@prefix ns3: <http://data.nobelprize.org/terms/> .\n",
      "@prefix owl: <http://www.w3.org/2002/07/owl#> .\n",
      "@prefix rdfs: <http://www.w3.org/2000/01/rdf-schema#> .\n",
      "@prefix xsd: <http://www.w3.org/2001/XMLSchema#> .\n",
      "\n",
      "<http://data.nobelprize.org/resource/laureate/999> a ns3:Laureate,\n",
      "        foaf:Person ;\n",
      "    rdfs:label \"Syukuro Manabe\" ;\n",
      "    ns3:laureateAward <http://data.nobelprize.org/resource/laureateaward/Physics/2021/999> ;\n",
      "    ns3:nobelPrize <http://data.nobelprize.org/resource/nobelprize/Physics/2021> ;\n",
      "    ns2:affiliation <http://data.nobelprize.org/resource/university/Princeton_University> ;\n",
      "    ns2:birthPlace <http://data.nobelprize.org/resource/city/Shingu%2C_Ehime>,\n",
      "        <http://data.nobelprize.org/resource/country/Japan> ;\n",
      "    ns1:dateOfBirth \"1931-09-21\"^^xsd:date ;\n",
      "    owl:sameAs [ ],\n",
      "        <http://www.wikidata.org/entity/Q3675789> ;\n",
      "    foaf:birthday \"1931-09-21\"^^xsd:date ;\n",
      "    foaf:familyName \"Manabe\" ;\n",
      "    foaf:gender \"male\" ;\n",
      "    foaf:givenName \"Syukuro\" ;\n",
      "    foaf:name \"Syukuro Manabe\" .\n",
      "\n",
      "\n"
     ]
    }
   ],
   "source": [
    "print(g.serialize(format='turtle').encode().decode('utf-8'))"
   ]
  }
 ],
 "metadata": {
  "kernelspec": {
   "display_name": "Python 3 (ipykernel)",
   "language": "python",
   "name": "python3"
  },
  "language_info": {
   "codemirror_mode": {
    "name": "ipython",
    "version": 3
   },
   "file_extension": ".py",
   "mimetype": "text/x-python",
   "name": "python",
   "nbconvert_exporter": "python",
   "pygments_lexer": "ipython3",
   "version": "3.9.12"
  }
 },
 "nbformat": 4,
 "nbformat_minor": 5
}
