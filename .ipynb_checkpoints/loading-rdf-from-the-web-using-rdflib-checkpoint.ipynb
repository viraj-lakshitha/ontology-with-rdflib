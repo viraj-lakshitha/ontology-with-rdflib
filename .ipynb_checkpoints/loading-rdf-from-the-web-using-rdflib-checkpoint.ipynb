{
 "cells": [
  {
   "cell_type": "code",
   "execution_count": 1,
   "id": "5f3241f9",
   "metadata": {},
   "outputs": [
    {
     "data": {
      "text/plain": [
       "<Graph identifier=N1581329c8cff4930a01b18ef0a99fa61 (<class 'rdflib.graph.Graph'>)>"
      ]
     },
     "execution_count": 1,
     "metadata": {},
     "output_type": "execute_result"
    }
   ],
   "source": [
    "import rdflib\n",
    "\n",
    "g = rdflib.Graph()\n",
    "g.parse('http://dbpedia.org/resource/Python_(programming_language)')"
   ]
  },
  {
   "cell_type": "code",
   "execution_count": 4,
   "id": "46197c14",
   "metadata": {},
   "outputs": [
    {
     "name": "stdout",
     "output_type": "stream",
     "text": [
      "example.xml\r\n",
      "getting-start-with-rdflib.ipynb\r\n",
      "loading-rdf-from-the-web-using-rdflib.ipynb\r\n"
     ]
    }
   ],
   "source": [
    "%ls"
   ]
  },
  {
   "cell_type": "code",
   "execution_count": 6,
   "id": "2932f576",
   "metadata": {},
   "outputs": [
    {
     "name": "stdout",
     "output_type": "stream",
     "text": [
      "@prefix foaf: <http://xmlns.com/foaf/0.1/> .\n",
      "@prefix xsd: <http://www.w3.org/2001/XMLSchema#> .\n",
      "\n",
      "<http://example.org/mason> a foaf:Person ;\n",
      "    foaf:mbox <mailto:mason@example.org> ;\n",
      "    foaf:name \"Mason Carter\" ;\n",
      "    foaf:nick \"mason\"@en .\n",
      "\n",
      "<http://example.org/shyla> a foaf:Person ;\n",
      "    foaf:mbox <mailto:shyla@example.org> ;\n",
      "    foaf:name \"Shyla Sharples\" ;\n",
      "    foaf:nick \"shyla\"^^xsd:string .\n",
      "\n",
      "\n"
     ]
    }
   ],
   "source": [
    "h = rdflib.Graph()\n",
    "format_ = rdflib.util.guess_format('example.xml')\n",
    "h.parse('example.xml', format=format_)\n",
    "\n",
    "print(h.serialize().encode().decode('utf-8'))"
   ]
  }
 ],
 "metadata": {
  "kernelspec": {
   "display_name": "Python 3 (ipykernel)",
   "language": "python",
   "name": "python3"
  },
  "language_info": {
   "codemirror_mode": {
    "name": "ipython",
    "version": 3
   },
   "file_extension": ".py",
   "mimetype": "text/x-python",
   "name": "python",
   "nbconvert_exporter": "python",
   "pygments_lexer": "ipython3",
   "version": "3.9.12"
  }
 },
 "nbformat": 4,
 "nbformat_minor": 5
}
